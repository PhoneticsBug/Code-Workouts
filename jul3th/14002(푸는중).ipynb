{
 "cells": [
  {
   "cell_type": "markdown",
   "metadata": {},
   "source": [
    "https://www.acmicpc.net/problem/14002\n",
    "\n",
    "### 가장 긴 증가하는 부분 수열 4\n",
    "\n",
    "문제\n",
    "\n",
    "    수열 A가 주어졌을 때, 가장 긴 증가하는 부분 수열을 구하는 프로그램을 작성하시오.\n",
    "\n",
    "    예를 들어, 수열 A = {10, 20, 10, 30, 20, 50} 인 경우에 가장 긴 증가하는 부분 수열은 A = {10, 20, 10, 30, 20, 50} 이고, 길이는 4이다.\n",
    "\n",
    "입력\n",
    "\n",
    "    첫째 줄에 수열 A의 크기 N (1 ≤ N ≤ 1,000)이 주어진다.\n",
    "\n",
    "    둘째 줄에는 수열 A를 이루고 있는 Ai가 주어진다. (1 ≤ Ai ≤ 1,000)\n",
    "\n",
    "출력\n",
    "\n",
    "    첫째 줄에 수열 A의 가장 긴 증가하는 부분 수열의 길이를 출력한다.\n",
    "\n",
    "    둘째 줄에는 가장 긴 증가하는 부분 수열을 출력한다. 그러한 수열이 여러가지인 경우 아무거나 출력한다.\n",
    "\n",
    "예제 입력 1 \n",
    "\n",
    "    6\n",
    "    10 20 10 30 20 50\n",
    "\n",
    "예제 출력 1 \n",
    "\n",
    "    4\n",
    "    10 20 30 50\n"
   ]
  },
  {
   "cell_type": "code",
   "execution_count": null,
   "metadata": {
    "vscode": {
     "languageId": "plaintext"
    }
   },
   "outputs": [],
   "source": [
    "length = int(input())\n",
    "nums = map(int, input().split())\n",
    "\n",
    "new_nums = []\n",
    "# nums의 첫 인덱스가 가장 작지 않은 경우는 어떻게 해야할지, \n",
    "# 혹은 가장 작은 것보다 더 큰 수부터 시작했을 때 그 수열이 더 길어지는지 확인해야됨"
   ]
  }
 ],
 "metadata": {
  "language_info": {
   "name": "python"
  },
  "orig_nbformat": 4
 },
 "nbformat": 4,
 "nbformat_minor": 2
}
