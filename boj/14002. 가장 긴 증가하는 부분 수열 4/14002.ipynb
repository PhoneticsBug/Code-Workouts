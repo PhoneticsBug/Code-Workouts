{
 "cells": [
  {
   "cell_type": "markdown",
   "metadata": {},
   "source": [
    "https://www.acmicpc.net/problem/14002\n",
    "\n",
    "### 가장 긴 증가하는 부분 수열 4\n",
    "\n",
    "문제\n",
    "\n",
    "    수열 A가 주어졌을 때, 가장 긴 증가하는 부분 수열을 구하는 프로그램을 작성하시오.\n",
    "\n",
    "    예를 들어, 수열 A = {10, 20, 10, 30, 20, 50} 인 경우에 가장 긴 증가하는 부분 수열은 A = {10, 20, 10, 30, 20, 50} 이고, 길이는 4이다.\n",
    "\n",
    "입력\n",
    "\n",
    "    첫째 줄에 수열 A의 크기 N (1 ≤ N ≤ 1,000)이 주어진다.\n",
    "\n",
    "    둘째 줄에는 수열 A를 이루고 있는 Ai가 주어진다. (1 ≤ Ai ≤ 1,000)\n",
    "\n",
    "출력\n",
    "\n",
    "    첫째 줄에 수열 A의 가장 긴 증가하는 부분 수열의 길이를 출력한다.\n",
    "\n",
    "    둘째 줄에는 가장 긴 증가하는 부분 수열을 출력한다. 그러한 수열이 여러가지인 경우 아무거나 출력한다.\n",
    "\n",
    "예제 입력 1 \n",
    "\n",
    "    6\n",
    "    10 20 10 30 20 50\n",
    "\n",
    "예제 출력 1 \n",
    "\n",
    "    4\n",
    "    10 20 30 50\n"
   ]
  },
  {
   "cell_type": "code",
   "execution_count": 3,
   "metadata": {},
   "outputs": [
    {
     "name": "stdout",
     "output_type": "stream",
     "text": [
      "[1, 2, 1, 3, 2, 4]\n",
      "4\n",
      "10 20 30 50\n"
     ]
    }
   ],
   "source": [
    "length = int(input())\n",
    "nums = list(map(int, input().split()))\n",
    "\n",
    "dp = [1]*length\n",
    "\n",
    "# 부분수열이 될 수 있는 순서 만들기\n",
    "for i in range(length):\n",
    "    for j in range(i):\n",
    "        if nums[j] < nums[i] and dp[i] < dp[j] + 1: \n",
    "            dp[i] = dp[j] + 1\n",
    "# print(dp)\n",
    "print(max(dp)) # 가장 큰 수가 부분수열의 최대길이\n",
    "\n",
    "# 가장 긴 부분수열 찾기\n",
    "ans = []\n",
    "mx = max(dp) # 가장 큰 수부터 시작\n",
    "for i in range(length-1, -1, -1): # 가장 큰 수부터 반대로 \n",
    "    if dp[i] == mx:\n",
    "        ans.append(nums[i])\n",
    "        mx -= 1\n",
    "\n",
    "print(' '.join(map(str, ans[::-1])))\n",
    "\n",
    "# 6\n",
    "# 10 20 10 30 20 50"
   ]
  }
 ],
 "metadata": {
  "kernelspec": {
   "display_name": "base",
   "language": "python",
   "name": "python3"
  },
  "language_info": {
   "codemirror_mode": {
    "name": "ipython",
    "version": 3
   },
   "file_extension": ".py",
   "mimetype": "text/x-python",
   "name": "python",
   "nbconvert_exporter": "python",
   "pygments_lexer": "ipython3",
   "version": "3.10.9"
  },
  "orig_nbformat": 4
 },
 "nbformat": 4,
 "nbformat_minor": 2
}
