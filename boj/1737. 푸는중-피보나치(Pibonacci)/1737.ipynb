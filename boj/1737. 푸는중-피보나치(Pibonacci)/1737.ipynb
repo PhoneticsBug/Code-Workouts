{
 "cells": [
  {
   "cell_type": "markdown",
   "metadata": {},
   "source": [
    "### [1737. Pibonacci](https://www.acmicpc.net/problem/1737) \n",
    "\n",
    "문제\n",
    "\n",
    "피보나치(Fibonacci) 수열은 매우 유명한 수열로 그 점화식은 F[i]=F[i-1]+F[i-2]와 같이 표현된다. 우리는 이와 같은 수열을 살짝 변경한 피보나치(Pibonacci) 수열에 대해 살펴보자. 피보나치 수열의 점화식은 아래와 같다.\n",
    "\n",
    "    P[n] = 1 (0 ≤ n ≤ π)\n",
    "    P[n] = P[n-1] + P[n-π] (그 외)\n",
    "    주의할 것은 n이 꼭 정수일 필요는 없다는 것이다. 즉, P[n-π] = P[n-π-1]+P[n-π-π]와 같은 식으로 계산을 해 주어야 한다.\n",
    "\n",
    "자연수로 n이 주어졌을 때, P[n]을 구하는 프로그램을 작성하시오.\n",
    "\n",
    "입력\n",
    "\n",
    "    첫째 줄에 자연수 n(1 ≤ n ≤ 1,000)이 주어진다.\n",
    "\n",
    "출력\n",
    "\n",
    "    첫째 줄에 P[n]을 출력한다. 값이 매우 커질 수 있으므로 1,000,000,000,000,000,000으로 나눈 나머지를 출력한다.\n",
    "\n",
    "예제 입력 1 \n",
    "\n",
    "    10\n",
    "\n",
    "예제 출력 1\n",
    "\n",
    "    19"
   ]
  },
  {
   "cell_type": "markdown",
   "metadata": {},
   "source": []
  }
 ],
 "metadata": {
  "language_info": {
   "name": "python"
  },
  "orig_nbformat": 4
 },
 "nbformat": 4,
 "nbformat_minor": 2
}
